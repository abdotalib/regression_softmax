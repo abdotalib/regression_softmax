{
 "cells": [
  {
   "cell_type": "code",
   "execution_count": 1,
   "metadata": {},
   "outputs": [
    {
     "name": "stdout",
     "output_type": "stream",
     "text": [
      "tous les packages sont bien importé\n"
     ]
    }
   ],
   "source": [
    "#importation des package necessaire\n",
    "import numpy as np\n",
    "import matplotlib.pyplot as plt\n",
    "import sklearn\n",
    "from sklearn import datasets\n",
    "print(\"tous les packages sont bien importé\")"
   ]
  },
  {
   "cell_type": "code",
   "execution_count": 3,
   "metadata": {},
   "outputs": [
    {
     "name": "stdout",
     "output_type": "stream",
     "text": [
      "Dimensions du base de données iris  (150, 4) \n",
      "dimension de la variable cible (150,)\n"
     ]
    }
   ],
   "source": [
    "#Charger les données IRIS \n",
    "data = datasets.load_iris()\n",
    "X, y = sklearn.utils.shuffle(data.data, data.target, random_state=0) # Mélanger les données\n",
    "print(\"Dimensions du base de données iris \", X.shape ,\"\\ndimension de la variable cible\", y.shape)"
   ]
  },
  {
   "cell_type": "code",
   "execution_count": 9,
   "metadata": {},
   "outputs": [
    {
     "data": {
      "image/png": "[encoded data removed]",
      "text/plain": [
       "<Figure size 720x432 with 1 Axes>"
      ]
     },
     "metadata": {
      "needs_background": "light"
     },
     "output_type": "display_data"
    },
    {
     "data": {
      "text/plain": [
       "<Figure size 432x288 with 0 Axes>"
      ]
     },
     "metadata": {},
     "output_type": "display_data"
    }
   ],
   "source": [
    "#Visualisation des données IRIS \n",
    "plt.figure(figsize=(10, 6))\n",
    "plt.scatter(X[y == 0][:, 0], X[y == 0][:, 1], c = 'r', label = 'classe 0 : Setosa')\n",
    "plt.scatter(X[y == 1][:, 0], X[y == 1][:, 1], c = 'g', label = 'classe 1 : Versicolour')\n",
    "plt.scatter(X[y == 2][:, 0], X[y == 2][:, 1], c = 'y', label = 'classe 2 : Virginia')\n",
    "plt.title('Données IRIS')\n",
    "plt.legend()\n",
    "plt.show()\n",
    "plt.savefig('IRIS.png')"
   ]
  },
  {
   "cell_type": "code",
   "execution_count": 11,
   "metadata": {},
   "outputs": [],
   "source": [
    "#Fonction d'activation softmax  \n",
    "def softmax(x):\n",
    "    for i in range(x.shape[0]):\n",
    "        x[i] = np.exp(x[i])/np.sum(np.exp(x[i]))\n",
    "    return x\n",
    "\n",
    "#Encodage One-Hot de la variable cible Y\n",
    "def Encodage_One_Hot(y):\n",
    "    Encodage_OneHot  = np.zeros([y.shape[0], 3])\n",
    "    for row in range(y.shape[0]):\n",
    "        if y[row] == 0:\n",
    "            Encodage_OneHot[row]=[1,0,0]\n",
    "        if y[row] == 1:\n",
    "            Encodage_OneHot[row]=[0,1,0]\n",
    "        if y[row] == 2:\n",
    "            Encodage_OneHot[row]=[0,0,1]\n",
    "    return Encodage_OneHot\n"
   ]
  },
  {
   "cell_type": "code",
   "execution_count": 12,
   "metadata": {},
   "outputs": [
    {
     "data": {
      "text/plain": [
       "array([[1. , 5.8, 2.8, 5.1, 2.4],\n",
       "       [1. , 6. , 2.2, 4. , 1. ],\n",
       "       [1. , 5.5, 4.2, 1.4, 0.2],\n",
       "       [1. , 7.3, 2.9, 6.3, 1.8],\n",
       "       [1. , 5. , 3.4, 1.5, 0.2],\n",
       "       [1. , 6.3, 3.3, 6. , 2.5],\n",
       "       [1. , 5. , 3.5, 1.3, 0.3],\n",
       "       [1. , 6.7, 3.1, 4.7, 1.5],\n",
       "       [1. , 6.8, 2.8, 4.8, 1.4],\n",
       "       [1. , 6.1, 2.8, 4. , 1.3],\n",
       "       [1. , 6.1, 2.6, 5.6, 1.4],\n",
       "       [1. , 6.4, 3.2, 4.5, 1.5],\n",
       "       [1. , 6.1, 2.8, 4.7, 1.2],\n",
       "       [1. , 6.5, 2.8, 4.6, 1.5],\n",
       "       [1. , 6.1, 2.9, 4.7, 1.4],\n",
       "       [1. , 4.9, 3.6, 1.4, 0.1],\n",
       "       [1. , 6. , 2.9, 4.5, 1.5],\n",
       "       [1. , 5.5, 2.6, 4.4, 1.2],\n",
       "       [1. , 4.8, 3. , 1.4, 0.3],\n",
       "       [1. , 5.4, 3.9, 1.3, 0.4],\n",
       "       [1. , 5.6, 2.8, 4.9, 2. ],\n",
       "       [1. , 5.6, 3. , 4.5, 1.5],\n",
       "       [1. , 4.8, 3.4, 1.9, 0.2],\n",
       "       [1. , 4.4, 2.9, 1.4, 0.2],\n",
       "       [1. , 6.2, 2.8, 4.8, 1.8],\n",
       "       [1. , 4.6, 3.6, 1. , 0.2],\n",
       "       [1. , 5.1, 3.8, 1.9, 0.4],\n",
       "       [1. , 6.2, 2.9, 4.3, 1.3],\n",
       "       [1. , 5. , 2.3, 3.3, 1. ],\n",
       "       [1. , 5. , 3.4, 1.6, 0.4],\n",
       "       [1. , 6.4, 3.1, 5.5, 1.8],\n",
       "       [1. , 5.4, 3. , 4.5, 1.5],\n",
       "       [1. , 5.2, 3.5, 1.5, 0.2],\n",
       "       [1. , 6.1, 3. , 4.9, 1.8],\n",
       "       [1. , 6.4, 2.8, 5.6, 2.2],\n",
       "       [1. , 5.2, 2.7, 3.9, 1.4],\n",
       "       [1. , 5.7, 3.8, 1.7, 0.3],\n",
       "       [1. , 6. , 2.7, 5.1, 1.6],\n",
       "       [1. , 5.9, 3. , 4.2, 1.5],\n",
       "       [1. , 5.8, 2.6, 4. , 1.2],\n",
       "       [1. , 6.8, 3. , 5.5, 2.1],\n",
       "       [1. , 4.7, 3.2, 1.3, 0.2],\n",
       "       [1. , 6.9, 3.1, 5.1, 2.3],\n",
       "       [1. , 5. , 3.5, 1.6, 0.6],\n",
       "       [1. , 5.4, 3.7, 1.5, 0.2],\n",
       "       [1. , 5. , 2. , 3.5, 1. ],\n",
       "       [1. , 6.5, 3. , 5.5, 1.8],\n",
       "       [1. , 6.7, 3.3, 5.7, 2.5],\n",
       "       [1. , 6. , 2.2, 5. , 1.5],\n",
       "       [1. , 6.7, 2.5, 5.8, 1.8],\n",
       "       [1. , 5.6, 2.5, 3.9, 1.1],\n",
       "       [1. , 7.7, 3. , 6.1, 2.3],\n",
       "       [1. , 6.3, 3.3, 4.7, 1.6],\n",
       "       [1. , 5.5, 2.4, 3.8, 1.1],\n",
       "       [1. , 6.3, 2.7, 4.9, 1.8],\n",
       "       [1. , 6.3, 2.8, 5.1, 1.5],\n",
       "       [1. , 4.9, 2.5, 4.5, 1.7],\n",
       "       [1. , 6.3, 2.5, 5. , 1.9],\n",
       "       [1. , 7. , 3.2, 4.7, 1.4],\n",
       "       [1. , 6.5, 3. , 5.2, 2. ],\n",
       "       [1. , 6. , 3.4, 4.5, 1.6],\n",
       "       [1. , 4.8, 3.1, 1.6, 0.2],\n",
       "       [1. , 5.8, 2.7, 5.1, 1.9],\n",
       "       [1. , 5.6, 2.7, 4.2, 1.3],\n",
       "       [1. , 5.6, 2.9, 3.6, 1.3],\n",
       "       [1. , 5.5, 2.5, 4. , 1.3],\n",
       "       [1. , 6.1, 3. , 4.6, 1.4],\n",
       "       [1. , 7.2, 3.2, 6. , 1.8],\n",
       "       [1. , 5.3, 3.7, 1.5, 0.2],\n",
       "       [1. , 4.3, 3. , 1.1, 0.1],\n",
       "       [1. , 6.4, 2.7, 5.3, 1.9],\n",
       "       [1. , 5.7, 3. , 4.2, 1.2],\n",
       "       [1. , 5.4, 3.4, 1.7, 0.2],\n",
       "       [1. , 5.7, 4.4, 1.5, 0.4],\n",
       "       [1. , 6.9, 3.1, 4.9, 1.5],\n",
       "       [1. , 4.6, 3.1, 1.5, 0.2],\n",
       "       [1. , 5.9, 3. , 5.1, 1.8],\n",
       "       [1. , 5.1, 2.5, 3. , 1.1],\n",
       "       [1. , 4.6, 3.4, 1.4, 0.3],\n",
       "       [1. , 6.2, 2.2, 4.5, 1.5],\n",
       "       [1. , 7.2, 3.6, 6.1, 2.5],\n",
       "       [1. , 5.7, 2.9, 4.2, 1.3],\n",
       "       [1. , 4.8, 3. , 1.4, 0.1],\n",
       "       [1. , 7.1, 3. , 5.9, 2.1],\n",
       "       [1. , 6.9, 3.2, 5.7, 2.3],\n",
       "       [1. , 6.5, 3. , 5.8, 2.2],\n",
       "       [1. , 6.4, 2.8, 5.6, 2.1],\n",
       "       [1. , 5.1, 3.8, 1.6, 0.2],\n",
       "       [1. , 4.8, 3.4, 1.6, 0.2],\n",
       "       [1. , 6.5, 3.2, 5.1, 2. ],\n",
       "       [1. , 6.7, 3.3, 5.7, 2.1],\n",
       "       [1. , 4.5, 2.3, 1.3, 0.3],\n",
       "       [1. , 6.2, 3.4, 5.4, 2.3],\n",
       "       [1. , 4.9, 3. , 1.4, 0.2],\n",
       "       [1. , 5.7, 2.5, 5. , 2. ],\n",
       "       [1. , 6.9, 3.1, 5.4, 2.1],\n",
       "       [1. , 4.4, 3.2, 1.3, 0.2],\n",
       "       [1. , 5. , 3.6, 1.4, 0.2],\n",
       "       [1. , 7.2, 3. , 5.8, 1.6],\n",
       "       [1. , 5.1, 3.5, 1.4, 0.3],\n",
       "       [1. , 4.4, 3. , 1.3, 0.2],\n",
       "       [1. , 5.4, 3.9, 1.7, 0.4],\n",
       "       [1. , 5.5, 2.3, 4. , 1.3],\n",
       "       [1. , 6.8, 3.2, 5.9, 2.3],\n",
       "       [1. , 7.6, 3. , 6.6, 2.1],\n",
       "       [1. , 5.1, 3.5, 1.4, 0.2],\n",
       "       [1. , 4.9, 3.1, 1.5, 0.2],\n",
       "       [1. , 5.2, 3.4, 1.4, 0.2],\n",
       "       [1. , 5.7, 2.8, 4.5, 1.3],\n",
       "       [1. , 6.6, 3. , 4.4, 1.4],\n",
       "       [1. , 5. , 3.2, 1.2, 0.2],\n",
       "       [1. , 5.1, 3.3, 1.7, 0.5],\n",
       "       [1. , 6.4, 2.9, 4.3, 1.3],\n",
       "       [1. , 5.4, 3.4, 1.5, 0.4],\n",
       "       [1. , 7.7, 2.6, 6.9, 2.3],\n",
       "       [1. , 4.9, 2.4, 3.3, 1. ],\n",
       "       [1. , 7.9, 3.8, 6.4, 2. ],\n",
       "       [1. , 6.7, 3.1, 4.4, 1.4],\n",
       "       [1. , 5.2, 4.1, 1.5, 0.1],\n",
       "       [1. , 6. , 3. , 4.8, 1.8],\n",
       "       [1. , 5.8, 4. , 1.2, 0.2],\n",
       "       [1. , 7.7, 2.8, 6.7, 2. ],\n",
       "       [1. , 5.1, 3.8, 1.5, 0.3],\n",
       "       [1. , 4.7, 3.2, 1.6, 0.2],\n",
       "       [1. , 7.4, 2.8, 6.1, 1.9],\n",
       "       [1. , 5. , 3.3, 1.4, 0.2],\n",
       "       [1. , 6.3, 3.4, 5.6, 2.4],\n",
       "       [1. , 5.7, 2.8, 4.1, 1.3],\n",
       "       [1. , 5.8, 2.7, 3.9, 1.2],\n",
       "       [1. , 5.7, 2.6, 3.5, 1. ],\n",
       "       [1. , 6.4, 3.2, 5.3, 2.3],\n",
       "       [1. , 6.7, 3. , 5.2, 2.3],\n",
       "       [1. , 6.3, 2.5, 4.9, 1.5],\n",
       "       [1. , 6.7, 3. , 5. , 1.7],\n",
       "       [1. , 5. , 3. , 1.6, 0.2],\n",
       "       [1. , 5.5, 2.4, 3.7, 1. ],\n",
       "       [1. , 6.7, 3.1, 5.6, 2.4],\n",
       "       [1. , 5.8, 2.7, 5.1, 1.9],\n",
       "       [1. , 5.1, 3.4, 1.5, 0.2],\n",
       "       [1. , 6.6, 2.9, 4.6, 1.3],\n",
       "       [1. , 5.6, 3. , 4.1, 1.3],\n",
       "       [1. , 5.9, 3.2, 4.8, 1.8],\n",
       "       [1. , 6.3, 2.3, 4.4, 1.3],\n",
       "       [1. , 5.5, 3.5, 1.3, 0.2],\n",
       "       [1. , 5.1, 3.7, 1.5, 0.4],\n",
       "       [1. , 4.9, 3.1, 1.5, 0.1],\n",
       "       [1. , 6.3, 2.9, 5.6, 1.8],\n",
       "       [1. , 5.8, 2.7, 4.1, 1. ],\n",
       "       [1. , 7.7, 3.8, 6.7, 2.2],\n",
       "       [1. , 4.6, 3.2, 1.4, 0.2]])"
      ]
     },
     "execution_count": 12,
     "metadata": {},
     "output_type": "execute_result"
    }
   ],
   "source": [
    "#Ajouter la colonne du biais dans la matrice X des entrées\n",
    "x = np.ones([X.shape[0],X.shape[1]+1])\n",
    "x[:, 1:] = X\n",
    "x"
   ]
  },
  {
   "cell_type": "code",
   "execution_count": 13,
   "metadata": {},
   "outputs": [],
   "source": [
    "#Prendre les 120 lignes premieres comme données d'entrainement\n",
    "training_data = x[:120, :]\n",
    "#On va tester le modele par le rest des données\n",
    "test_data = x[120:, :]"
   ]
  },
  {
   "cell_type": "code",
   "execution_count": 14,
   "metadata": {},
   "outputs": [],
   "source": [
    "#Encodage One-Hot\n",
    "training_label = Encodage_One_Hot(y[:120])\n",
    "test_label = Encodage_One_Hot(y[120:])"
   ]
  },
  {
   "cell_type": "code",
   "execution_count": 15,
   "metadata": {},
   "outputs": [
    {
     "name": "stdout",
     "output_type": "stream",
     "text": [
      "[[0. 0. 1.]\n",
      " [0. 1. 0.]\n",
      " [1. 0. 0.]\n",
      " [0. 0. 1.]\n",
      " [1. 0. 0.]\n",
      " [0. 0. 1.]\n",
      " [1. 0. 0.]\n",
      " [0. 1. 0.]\n",
      " [0. 1. 0.]\n",
      " [0. 1. 0.]\n",
      " [0. 0. 1.]\n",
      " [0. 1. 0.]\n",
      " [0. 1. 0.]\n",
      " [0. 1. 0.]\n",
      " [0. 1. 0.]\n",
      " [1. 0. 0.]\n",
      " [0. 1. 0.]\n",
      " [0. 1. 0.]\n",
      " [1. 0. 0.]\n",
      " [1. 0. 0.]\n",
      " [0. 0. 1.]\n",
      " [0. 1. 0.]\n",
      " [1. 0. 0.]\n",
      " [1. 0. 0.]\n",
      " [0. 0. 1.]\n",
      " [1. 0. 0.]\n",
      " [1. 0. 0.]\n",
      " [0. 1. 0.]\n",
      " [0. 1. 0.]\n",
      " [1. 0. 0.]\n",
      " [0. 0. 1.]\n",
      " [0. 1. 0.]\n",
      " [1. 0. 0.]\n",
      " [0. 0. 1.]\n",
      " [0. 0. 1.]\n",
      " [0. 1. 0.]\n",
      " [1. 0. 0.]\n",
      " [0. 1. 0.]\n",
      " [0. 1. 0.]\n",
      " [0. 1. 0.]\n",
      " [0. 0. 1.]\n",
      " [1. 0. 0.]\n",
      " [0. 0. 1.]\n",
      " [1. 0. 0.]\n",
      " [1. 0. 0.]\n",
      " [0. 1. 0.]\n",
      " [0. 0. 1.]\n",
      " [0. 0. 1.]\n",
      " [0. 0. 1.]\n",
      " [0. 0. 1.]\n",
      " [0. 1. 0.]\n",
      " [0. 0. 1.]\n",
      " [0. 1. 0.]\n",
      " [0. 1. 0.]\n",
      " [0. 0. 1.]\n",
      " [0. 0. 1.]\n",
      " [0. 0. 1.]\n",
      " [0. 0. 1.]\n",
      " [0. 1. 0.]\n",
      " [0. 0. 1.]\n",
      " [0. 1. 0.]\n",
      " [1. 0. 0.]\n",
      " [0. 0. 1.]\n",
      " [0. 1. 0.]\n",
      " [0. 1. 0.]\n",
      " [0. 1. 0.]\n",
      " [0. 1. 0.]\n",
      " [0. 0. 1.]\n",
      " [1. 0. 0.]\n",
      " [1. 0. 0.]\n",
      " [0. 0. 1.]\n",
      " [0. 1. 0.]\n",
      " [1. 0. 0.]\n",
      " [1. 0. 0.]\n",
      " [0. 1. 0.]\n",
      " [1. 0. 0.]\n",
      " [0. 0. 1.]\n",
      " [0. 1. 0.]\n",
      " [1. 0. 0.]\n",
      " [0. 1. 0.]\n",
      " [0. 0. 1.]\n",
      " [0. 1. 0.]\n",
      " [1. 0. 0.]\n",
      " [0. 0. 1.]\n",
      " [0. 0. 1.]\n",
      " [0. 0. 1.]\n",
      " [0. 0. 1.]\n",
      " [1. 0. 0.]\n",
      " [1. 0. 0.]\n",
      " [0. 0. 1.]\n",
      " [0. 0. 1.]\n",
      " [1. 0. 0.]\n",
      " [0. 0. 1.]\n",
      " [1. 0. 0.]\n",
      " [0. 0. 1.]\n",
      " [0. 0. 1.]\n",
      " [1. 0. 0.]\n",
      " [1. 0. 0.]\n",
      " [0. 0. 1.]\n",
      " [1. 0. 0.]\n",
      " [1. 0. 0.]\n",
      " [1. 0. 0.]\n",
      " [0. 1. 0.]\n",
      " [0. 0. 1.]\n",
      " [0. 0. 1.]\n",
      " [1. 0. 0.]\n",
      " [1. 0. 0.]\n",
      " [1. 0. 0.]\n",
      " [0. 1. 0.]\n",
      " [0. 1. 0.]\n",
      " [1. 0. 0.]\n",
      " [1. 0. 0.]\n",
      " [0. 1. 0.]\n",
      " [1. 0. 0.]\n",
      " [0. 0. 1.]\n",
      " [0. 1. 0.]\n",
      " [0. 0. 1.]\n",
      " [0. 1. 0.]\n",
      " [1. 0. 0.]\n",
      " [0. 0. 1.]]\n"
     ]
    }
   ],
   "source": [
    "print(training_label)"
   ]
  },
  {
   "cell_type": "code",
   "execution_count": 17,
   "metadata": {},
   "outputs": [],
   "source": [
    "#Modéle du regression logistique softmax\n",
    "np.random.seed(0) #Fixer les données aleatoires\n",
    "w = abs(np.random.randn(5, 3)/10)\n",
    "JW_b = []\n",
    "epochs = 30\n",
    "i = 0\n",
    "#while(True):\n",
    "for j in range(120):\n",
    "    z = np.dot(training_data, w)\n",
    "    D = -1.0*training_label*np.log(softmax(z))\n",
    "    D = D.sum(axis = 1)#Erreur de chaque iteration\n",
    "    JW_b.append(D.sum(axis = 0)/120.0)\n",
    "    gradient = np.dot(training_data.T, (softmax(z)-training_label))*1.0/120.0 #Calcul du gradient\n",
    "    w = w - 0.1*gradient # les nouveaux poids\n",
    "    i = i+1"
   ]
  },
  {
   "cell_type": "code",
   "execution_count": 18,
   "metadata": {},
   "outputs": [
    {
     "data": {
      "image/png": "[encoded data removed]",
      "text/plain": [
       "<Figure size 576x576 with 1 Axes>"
      ]
     },
     "metadata": {
      "needs_background": "light"
     },
     "output_type": "display_data"
    }
   ],
   "source": [
    "#Graphe des erreurs \n",
    "plt.figure(figsize=(8,8))\n",
    "plt.plot(JW_b)\n",
    "plt.ylabel(\"Erreur\")\n",
    "plt.xlabel(\"Itération\")\n",
    "plt.title(\"Minimisation de l'erreur par itération\")\n",
    "plt.show()"
   ]
  },
  {
   "cell_type": "code",
   "execution_count": 20,
   "metadata": {},
   "outputs": [],
   "source": [
    "#Tester le modéle\n",
    "l = np.dot(test_data, w)\n",
    "predicted_label = np.argmax(l, axis = 1)"
   ]
  },
  {
   "cell_type": "code",
   "execution_count": 29,
   "metadata": {},
   "outputs": [
    {
     "name": "stdout",
     "output_type": "stream",
     "text": [
      "[[  6.57856997   1.60940777  -4.17449295]\n",
      " [-31.01339026  17.44013289  19.75215819]\n",
      " [  3.87776719   2.17789667  -2.34874017]\n",
      " [  1.76459079   2.7753007   -1.10185343]\n",
      " [-27.54008174  15.87031399  17.56229601]\n",
      " [  3.25481365   2.38513922  -2.07747461]\n",
      " [-24.68179607  13.81685086  16.23620616]\n",
      " [-15.5548647   10.07313723  10.02830411]\n",
      " [-14.44519421   9.72664866   9.25048877]\n",
      " [-12.05041038   8.75727918   7.65528234]\n",
      " [-23.2938853   13.35783943  15.2605376 ]\n",
      " [-23.19108789  13.52170891  15.10226013]\n",
      " [-21.11122431  12.65230655  13.46174297]\n",
      " [-20.62835983  12.67748358  13.26398453]\n",
      " [  1.31185163   3.16207007  -0.90740505]\n",
      " [-13.78397839   9.31315613   8.74734384]\n",
      " [-25.37788038  14.36933569  16.54709487]\n",
      " [-22.80523051  12.86627712  14.8048268 ]\n",
      " [  3.01052451   2.55300052  -1.91805367]\n",
      " [-17.74969102  11.57530559  11.29117012]\n",
      " [-15.03422325   9.79704474   9.75699116]\n",
      " [-19.4762457   11.6346265   12.74504989]\n",
      " [-18.40424905  11.62575265  11.63025103]\n",
      " [  4.53469851   2.21817747  -2.93210713]\n",
      " [  3.35852842   2.35467796  -2.00506356]\n",
      " [  2.35267584   2.70705046  -1.56537522]\n",
      " [-24.61662262  13.97031044  15.87774535]\n",
      " [-15.0723824   10.03963992   9.57833249]\n",
      " [-28.7243123   16.46917115  18.58103995]\n",
      " [  2.8417128    2.27416249  -1.76887283]]\n"
     ]
    }
   ],
   "source": [
    "print(l)"
   ]
  },
  {
   "cell_type": "code",
   "execution_count": 28,
   "metadata": {},
   "outputs": [
    {
     "name": "stdout",
     "output_type": "stream",
     "text": [
      "[0 2 0 1 2 0 2 1 1 1 2 2 2 2 1 1 2 2 0 1 1 2 2 0 0 1 2 1 2 0]\n"
     ]
    }
   ],
   "source": [
    "print(predicted_label)"
   ]
  },
  {
   "cell_type": "code",
   "execution_count": 22,
   "metadata": {},
   "outputs": [],
   "source": [
    "td = test_data[:, 1:] # Eviter la colonne du biais\n",
    "tl = np.argmax(test_label, axis = 1)"
   ]
  },
  {
   "cell_type": "code",
   "execution_count": 33,
   "metadata": {},
   "outputs": [
    {
     "name": "stdout",
     "output_type": "stream",
     "text": [
      "[[1. 0. 0.]\n",
      " [0. 0. 1.]\n",
      " [1. 0. 0.]\n",
      " [1. 0. 0.]\n",
      " [0. 0. 1.]\n",
      " [1. 0. 0.]\n",
      " [0. 0. 1.]\n",
      " [0. 1. 0.]\n",
      " [0. 1. 0.]\n",
      " [0. 1. 0.]\n",
      " [0. 0. 1.]\n",
      " [0. 0. 1.]\n",
      " [0. 1. 0.]\n",
      " [0. 1. 0.]\n",
      " [1. 0. 0.]\n",
      " [0. 1. 0.]\n",
      " [0. 0. 1.]\n",
      " [0. 0. 1.]\n",
      " [1. 0. 0.]\n",
      " [0. 1. 0.]\n",
      " [0. 1. 0.]\n",
      " [0. 1. 0.]\n",
      " [0. 1. 0.]\n",
      " [1. 0. 0.]\n",
      " [1. 0. 0.]\n",
      " [1. 0. 0.]\n",
      " [0. 0. 1.]\n",
      " [0. 1. 0.]\n",
      " [0. 0. 1.]\n",
      " [1. 0. 0.]]\n"
     ]
    }
   ],
   "source": [
    "print(test_label)"
   ]
  },
  {
   "cell_type": "code",
   "execution_count": 25,
   "metadata": {},
   "outputs": [
    {
     "data": {
      "image/png": "[encoded data removed]",
      "text/plain": [
       "<Figure size 1080x576 with 2 Axes>"
      ]
     },
     "metadata": {
      "needs_background": "light"
     },
     "output_type": "display_data"
    }
   ],
   "source": [
    "fig, (ax1, ax2) = plt.subplots(1, 2, figsize=(15,8))\n",
    "\n",
    "#plt.subplot(1,2,1)\n",
    "ax1.scatter(td[tl == 0][:, 0], td[tl == 0][:, 1], c = 'r', label = 'classe 0')\n",
    "ax1.scatter(td[tl == 1][:, 0], td[tl == 1][:, 1], c = 'g', label = 'classe 1')\n",
    "ax1.scatter(td[tl == 2][:, 0], td[tl == 2][:, 1], c = 'y', label = 'classe 2')\n",
    "ax1.set_title(\"Représentation des données selon les vraies labels des classes\")\n",
    "ax1.legend(loc='upper right')\n",
    "\n",
    "#ax1.subplot(1,2,2)\n",
    "ax2.scatter(td[predected_label == 0][:, 0], td[predicted_label == 0][:, 1], c = 'r', label = 'classe 0')\n",
    "ax2.scatter(td[predected_label == 1][:, 0], td[predicted_label == 1][:, 1], c = 'g', label = 'classe 1')\n",
    "ax2.scatter(td[predected_label == 2][:, 0], td[predicted_label == 2][:, 1], c = 'y', label = 'classe 2')\n",
    "ax2.set_title(\"Représentation des données selon les classes prédites par le modéle\")\n",
    "ax2.legend(loc='upper right')\n",
    "plt.show()"
   ]
  },
  {
   "cell_type": "code",
   "execution_count": null,
   "metadata": {},
   "outputs": [],
   "source": []
  }
 ],
 "metadata": {
  "kernelspec": {
   "display_name": "Python 3",
   "language": "python",
   "name": "python3"
  },
  "language_info": {
   "codemirror_mode": {
    "name": "ipython",
    "version": 3
   },
   "file_extension": ".py",
   "mimetype": "text/x-python",
   "name": "python",
   "nbconvert_exporter": "python",
   "pygments_lexer": "ipython3",
   "version": "3.8.0"
  }
 },
 "nbformat": 4,
 "nbformat_minor": 4
}
